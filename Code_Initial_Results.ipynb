{
  "cells": [
    {
      "cell_type": "markdown",
      "metadata": {
        "id": "HWgDV_ChThXl"
      },
      "source": [
        "Data Loading and Cleaning"
      ]
    },
    {
      "cell_type": "code",
      "execution_count": null,
      "metadata": {
        "id": "a0IErObnv1nQ"
      },
      "outputs": [],
      "source": [
        "import pandas as pd"
      ]
    },
    {
      "cell_type": "code",
      "execution_count": null,
      "metadata": {
        "colab": {
          "base_uri": "https://localhost:8080/",
          "height": 289
        },
        "id": "cTR9vzjAlM5B",
        "outputId": "c043e4b2-c3c9-4e78-e974-6dc2f99935d3"
      },
      "outputs": [
        {
          "data": {
            "application/vnd.google.colaboratory.intrinsic+json": {
              "type": "dataframe",
              "variable_name": "df_reviews"
            },
            "text/html": [
              "\n",
              "  <div id=\"df-860dd718-32cd-43c1-88a7-bc5bfdbe5996\" class=\"colab-df-container\">\n",
              "    <div>\n",
              "<style scoped>\n",
              "    .dataframe tbody tr th:only-of-type {\n",
              "        vertical-align: middle;\n",
              "    }\n",
              "\n",
              "    .dataframe tbody tr th {\n",
              "        vertical-align: top;\n",
              "    }\n",
              "\n",
              "    .dataframe thead th {\n",
              "        text-align: right;\n",
              "    }\n",
              "</style>\n",
              "<table border=\"1\" class=\"dataframe\">\n",
              "  <thead>\n",
              "    <tr style=\"text-align: right;\">\n",
              "      <th></th>\n",
              "      <th>review_date</th>\n",
              "      <th>movie_id</th>\n",
              "      <th>user_id</th>\n",
              "      <th>is_spoiler</th>\n",
              "      <th>review_text</th>\n",
              "      <th>rating</th>\n",
              "      <th>review_summary</th>\n",
              "    </tr>\n",
              "  </thead>\n",
              "  <tbody>\n",
              "    <tr>\n",
              "      <th>0</th>\n",
              "      <td>10 February 2006</td>\n",
              "      <td>tt0111161</td>\n",
              "      <td>ur1898687</td>\n",
              "      <td>True</td>\n",
              "      <td>In its Oscar year, Shawshank Redemption (writt...</td>\n",
              "      <td>10</td>\n",
              "      <td>A classic piece of unforgettable film-making.</td>\n",
              "    </tr>\n",
              "    <tr>\n",
              "      <th>1</th>\n",
              "      <td>6 September 2000</td>\n",
              "      <td>tt0111161</td>\n",
              "      <td>ur0842118</td>\n",
              "      <td>True</td>\n",
              "      <td>The Shawshank Redemption is without a doubt on...</td>\n",
              "      <td>10</td>\n",
              "      <td>Simply amazing. The best film of the 90's.</td>\n",
              "    </tr>\n",
              "    <tr>\n",
              "      <th>2</th>\n",
              "      <td>3 August 2001</td>\n",
              "      <td>tt0111161</td>\n",
              "      <td>ur1285640</td>\n",
              "      <td>True</td>\n",
              "      <td>I believe that this film is the best story eve...</td>\n",
              "      <td>8</td>\n",
              "      <td>The best story ever told on film</td>\n",
              "    </tr>\n",
              "    <tr>\n",
              "      <th>3</th>\n",
              "      <td>1 September 2002</td>\n",
              "      <td>tt0111161</td>\n",
              "      <td>ur1003471</td>\n",
              "      <td>True</td>\n",
              "      <td>**Yes, there are SPOILERS here**This film has ...</td>\n",
              "      <td>10</td>\n",
              "      <td>Busy dying or busy living?</td>\n",
              "    </tr>\n",
              "    <tr>\n",
              "      <th>4</th>\n",
              "      <td>20 May 2004</td>\n",
              "      <td>tt0111161</td>\n",
              "      <td>ur0226855</td>\n",
              "      <td>True</td>\n",
              "      <td>At the heart of this extraordinary movie is a ...</td>\n",
              "      <td>8</td>\n",
              "      <td>Great story, wondrously told and acted</td>\n",
              "    </tr>\n",
              "  </tbody>\n",
              "</table>\n",
              "</div>\n",
              "    <div class=\"colab-df-buttons\">\n",
              "\n",
              "  <div class=\"colab-df-container\">\n",
              "    <button class=\"colab-df-convert\" onclick=\"convertToInteractive('df-860dd718-32cd-43c1-88a7-bc5bfdbe5996')\"\n",
              "            title=\"Convert this dataframe to an interactive table.\"\n",
              "            style=\"display:none;\">\n",
              "\n",
              "  <svg xmlns=\"http://www.w3.org/2000/svg\" height=\"24px\" viewBox=\"0 -960 960 960\">\n",
              "    <path d=\"M120-120v-720h720v720H120Zm60-500h600v-160H180v160Zm220 220h160v-160H400v160Zm0 220h160v-160H400v160ZM180-400h160v-160H180v160Zm440 0h160v-160H620v160ZM180-180h160v-160H180v160Zm440 0h160v-160H620v160Z\"/>\n",
              "  </svg>\n",
              "    </button>\n",
              "\n",
              "  <style>\n",
              "    .colab-df-container {\n",
              "      display:flex;\n",
              "      gap: 12px;\n",
              "    }\n",
              "\n",
              "    .colab-df-convert {\n",
              "      background-color: #E8F0FE;\n",
              "      border: none;\n",
              "      border-radius: 50%;\n",
              "      cursor: pointer;\n",
              "      display: none;\n",
              "      fill: #1967D2;\n",
              "      height: 32px;\n",
              "      padding: 0 0 0 0;\n",
              "      width: 32px;\n",
              "    }\n",
              "\n",
              "    .colab-df-convert:hover {\n",
              "      background-color: #E2EBFA;\n",
              "      box-shadow: 0px 1px 2px rgba(60, 64, 67, 0.3), 0px 1px 3px 1px rgba(60, 64, 67, 0.15);\n",
              "      fill: #174EA6;\n",
              "    }\n",
              "\n",
              "    .colab-df-buttons div {\n",
              "      margin-bottom: 4px;\n",
              "    }\n",
              "\n",
              "    [theme=dark] .colab-df-convert {\n",
              "      background-color: #3B4455;\n",
              "      fill: #D2E3FC;\n",
              "    }\n",
              "\n",
              "    [theme=dark] .colab-df-convert:hover {\n",
              "      background-color: #434B5C;\n",
              "      box-shadow: 0px 1px 3px 1px rgba(0, 0, 0, 0.15);\n",
              "      filter: drop-shadow(0px 1px 2px rgba(0, 0, 0, 0.3));\n",
              "      fill: #FFFFFF;\n",
              "    }\n",
              "  </style>\n",
              "\n",
              "    <script>\n",
              "      const buttonEl =\n",
              "        document.querySelector('#df-860dd718-32cd-43c1-88a7-bc5bfdbe5996 button.colab-df-convert');\n",
              "      buttonEl.style.display =\n",
              "        google.colab.kernel.accessAllowed ? 'block' : 'none';\n",
              "\n",
              "      async function convertToInteractive(key) {\n",
              "        const element = document.querySelector('#df-860dd718-32cd-43c1-88a7-bc5bfdbe5996');\n",
              "        const dataTable =\n",
              "          await google.colab.kernel.invokeFunction('convertToInteractive',\n",
              "                                                    [key], {});\n",
              "        if (!dataTable) return;\n",
              "\n",
              "        const docLinkHtml = 'Like what you see? Visit the ' +\n",
              "          '<a target=\"_blank\" href=https://colab.research.google.com/notebooks/data_table.ipynb>data table notebook</a>'\n",
              "          + ' to learn more about interactive tables.';\n",
              "        element.innerHTML = '';\n",
              "        dataTable['output_type'] = 'display_data';\n",
              "        await google.colab.output.renderOutput(dataTable, element);\n",
              "        const docLink = document.createElement('div');\n",
              "        docLink.innerHTML = docLinkHtml;\n",
              "        element.appendChild(docLink);\n",
              "      }\n",
              "    </script>\n",
              "  </div>\n",
              "\n",
              "\n",
              "<div id=\"df-442b4c52-e987-459f-b36e-966f08e97ab9\">\n",
              "  <button class=\"colab-df-quickchart\" onclick=\"quickchart('df-442b4c52-e987-459f-b36e-966f08e97ab9')\"\n",
              "            title=\"Suggest charts\"\n",
              "            style=\"display:none;\">\n",
              "\n",
              "<svg xmlns=\"http://www.w3.org/2000/svg\" height=\"24px\"viewBox=\"0 0 24 24\"\n",
              "     width=\"24px\">\n",
              "    <g>\n",
              "        <path d=\"M19 3H5c-1.1 0-2 .9-2 2v14c0 1.1.9 2 2 2h14c1.1 0 2-.9 2-2V5c0-1.1-.9-2-2-2zM9 17H7v-7h2v7zm4 0h-2V7h2v10zm4 0h-2v-4h2v4z\"/>\n",
              "    </g>\n",
              "</svg>\n",
              "  </button>\n",
              "\n",
              "<style>\n",
              "  .colab-df-quickchart {\n",
              "      --bg-color: #E8F0FE;\n",
              "      --fill-color: #1967D2;\n",
              "      --hover-bg-color: #E2EBFA;\n",
              "      --hover-fill-color: #174EA6;\n",
              "      --disabled-fill-color: #AAA;\n",
              "      --disabled-bg-color: #DDD;\n",
              "  }\n",
              "\n",
              "  [theme=dark] .colab-df-quickchart {\n",
              "      --bg-color: #3B4455;\n",
              "      --fill-color: #D2E3FC;\n",
              "      --hover-bg-color: #434B5C;\n",
              "      --hover-fill-color: #FFFFFF;\n",
              "      --disabled-bg-color: #3B4455;\n",
              "      --disabled-fill-color: #666;\n",
              "  }\n",
              "\n",
              "  .colab-df-quickchart {\n",
              "    background-color: var(--bg-color);\n",
              "    border: none;\n",
              "    border-radius: 50%;\n",
              "    cursor: pointer;\n",
              "    display: none;\n",
              "    fill: var(--fill-color);\n",
              "    height: 32px;\n",
              "    padding: 0;\n",
              "    width: 32px;\n",
              "  }\n",
              "\n",
              "  .colab-df-quickchart:hover {\n",
              "    background-color: var(--hover-bg-color);\n",
              "    box-shadow: 0 1px 2px rgba(60, 64, 67, 0.3), 0 1px 3px 1px rgba(60, 64, 67, 0.15);\n",
              "    fill: var(--button-hover-fill-color);\n",
              "  }\n",
              "\n",
              "  .colab-df-quickchart-complete:disabled,\n",
              "  .colab-df-quickchart-complete:disabled:hover {\n",
              "    background-color: var(--disabled-bg-color);\n",
              "    fill: var(--disabled-fill-color);\n",
              "    box-shadow: none;\n",
              "  }\n",
              "\n",
              "  .colab-df-spinner {\n",
              "    border: 2px solid var(--fill-color);\n",
              "    border-color: transparent;\n",
              "    border-bottom-color: var(--fill-color);\n",
              "    animation:\n",
              "      spin 1s steps(1) infinite;\n",
              "  }\n",
              "\n",
              "  @keyframes spin {\n",
              "    0% {\n",
              "      border-color: transparent;\n",
              "      border-bottom-color: var(--fill-color);\n",
              "      border-left-color: var(--fill-color);\n",
              "    }\n",
              "    20% {\n",
              "      border-color: transparent;\n",
              "      border-left-color: var(--fill-color);\n",
              "      border-top-color: var(--fill-color);\n",
              "    }\n",
              "    30% {\n",
              "      border-color: transparent;\n",
              "      border-left-color: var(--fill-color);\n",
              "      border-top-color: var(--fill-color);\n",
              "      border-right-color: var(--fill-color);\n",
              "    }\n",
              "    40% {\n",
              "      border-color: transparent;\n",
              "      border-right-color: var(--fill-color);\n",
              "      border-top-color: var(--fill-color);\n",
              "    }\n",
              "    60% {\n",
              "      border-color: transparent;\n",
              "      border-right-color: var(--fill-color);\n",
              "    }\n",
              "    80% {\n",
              "      border-color: transparent;\n",
              "      border-right-color: var(--fill-color);\n",
              "      border-bottom-color: var(--fill-color);\n",
              "    }\n",
              "    90% {\n",
              "      border-color: transparent;\n",
              "      border-bottom-color: var(--fill-color);\n",
              "    }\n",
              "  }\n",
              "</style>\n",
              "\n",
              "  <script>\n",
              "    async function quickchart(key) {\n",
              "      const quickchartButtonEl =\n",
              "        document.querySelector('#' + key + ' button');\n",
              "      quickchartButtonEl.disabled = true;  // To prevent multiple clicks.\n",
              "      quickchartButtonEl.classList.add('colab-df-spinner');\n",
              "      try {\n",
              "        const charts = await google.colab.kernel.invokeFunction(\n",
              "            'suggestCharts', [key], {});\n",
              "      } catch (error) {\n",
              "        console.error('Error during call to suggestCharts:', error);\n",
              "      }\n",
              "      quickchartButtonEl.classList.remove('colab-df-spinner');\n",
              "      quickchartButtonEl.classList.add('colab-df-quickchart-complete');\n",
              "    }\n",
              "    (() => {\n",
              "      let quickchartButtonEl =\n",
              "        document.querySelector('#df-442b4c52-e987-459f-b36e-966f08e97ab9 button');\n",
              "      quickchartButtonEl.style.display =\n",
              "        google.colab.kernel.accessAllowed ? 'block' : 'none';\n",
              "    })();\n",
              "  </script>\n",
              "</div>\n",
              "\n",
              "    </div>\n",
              "  </div>\n"
            ],
            "text/plain": [
              "        review_date   movie_id    user_id  is_spoiler  \\\n",
              "0  10 February 2006  tt0111161  ur1898687        True   \n",
              "1  6 September 2000  tt0111161  ur0842118        True   \n",
              "2     3 August 2001  tt0111161  ur1285640        True   \n",
              "3  1 September 2002  tt0111161  ur1003471        True   \n",
              "4       20 May 2004  tt0111161  ur0226855        True   \n",
              "\n",
              "                                         review_text  rating  \\\n",
              "0  In its Oscar year, Shawshank Redemption (writt...      10   \n",
              "1  The Shawshank Redemption is without a doubt on...      10   \n",
              "2  I believe that this film is the best story eve...       8   \n",
              "3  **Yes, there are SPOILERS here**This film has ...      10   \n",
              "4  At the heart of this extraordinary movie is a ...       8   \n",
              "\n",
              "                                  review_summary  \n",
              "0  A classic piece of unforgettable film-making.  \n",
              "1     Simply amazing. The best film of the 90's.  \n",
              "2               The best story ever told on film  \n",
              "3                     Busy dying or busy living?  \n",
              "4         Great story, wondrously told and acted  "
            ]
          },
          "execution_count": 5,
          "metadata": {},
          "output_type": "execute_result"
        }
      ],
      "source": [
        "# Loading the movie review dataset and reading the JSON to a dataframe\n",
        "df_reviews = pd.read_json('/content/drive/MyDrive/IMDB_reviews.json', lines=True)\n",
        "\n",
        "# Displaying the first few rows of the dataframe\n",
        "df_reviews.head()"
      ]
    },
    {
      "cell_type": "code",
      "execution_count": null,
      "metadata": {
        "colab": {
          "base_uri": "https://localhost:8080/"
        },
        "id": "rFhNBG-EmPI7",
        "outputId": "f46bf693-9e37-4689-d2ea-f56d0bb5c12b"
      },
      "outputs": [
        {
          "data": {
            "text/plain": [
              "(573913, 7)"
            ]
          },
          "execution_count": 6,
          "metadata": {},
          "output_type": "execute_result"
        }
      ],
      "source": [
        "# Displaying the shape of the dataframe\n",
        "df_reviews.shape"
      ]
    },
    {
      "cell_type": "code",
      "execution_count": null,
      "metadata": {
        "colab": {
          "base_uri": "https://localhost:8080/",
          "height": 204
        },
        "id": "1IXI5pgZx7YY",
        "outputId": "d5252c42-fb1e-4228-a97c-2a1bf3eabd78"
      },
      "outputs": [
        {
          "data": {
            "application/vnd.google.colaboratory.intrinsic+json": {
              "summary": "{\n  \"name\": \"df_movies\",\n  \"rows\": 1572,\n  \"fields\": [\n    {\n      \"column\": \"movie_id\",\n      \"properties\": {\n        \"dtype\": \"string\",\n        \"num_unique_values\": 1572,\n        \"samples\": [\n          \"tt0118694\",\n          \"tt7608534\",\n          \"tt0159365\"\n        ],\n        \"semantic_type\": \"\",\n        \"description\": \"\"\n      }\n    },\n    {\n      \"column\": \"plot_summary\",\n      \"properties\": {\n        \"dtype\": \"string\",\n        \"num_unique_values\": 1572,\n        \"samples\": [\n          \"Set in Hong Kong, 1962, Chow Mo-Wan is a newspaper editor who moves into a new building with his wife. At the same time, Su Li-zhen, a beautiful secretary and her executive husband also move in to the crowded building. With their spouses often away, Chow and Li-zhen spend most of their time together as friends. They have everything in common from noodle shops to martial arts. Soon, they are shocked to discover that their spouses are having an affair. Hurt and angry, they find comfort in their growing friendship even as they resolve not to be like their unfaithful mates.                Written by\\nAnonymous\",\n          \"Before ambitious heiress Ellen Langford can inherit her father's gift business, she must deliver a special Christmas card to her dad's former partner in Snow Falls, the hometown she never knew. When a snowstorm strands her at the town inn, she's forced to work for her keep, and in the process, finds romance and discovers the true gift of Christmas.                Written by\\nMPCA\",\n          \"This Civil War saga addresses romance, friendship, and the ravages of war--both in the field and on the home front. Captures the horrors of war for both those fighting it, and for those left behind. This is a tale of hope, longing, redemption, second chances, and faith.                Written by\\nQuickflix\"\n        ],\n        \"semantic_type\": \"\",\n        \"description\": \"\"\n      }\n    },\n    {\n      \"column\": \"duration\",\n      \"properties\": {\n        \"dtype\": \"category\",\n        \"num_unique_values\": 132,\n        \"samples\": [\n          \"1h 58min\",\n          \"3h 8min\",\n          \"1h 48min\"\n        ],\n        \"semantic_type\": \"\",\n        \"description\": \"\"\n      }\n    },\n    {\n      \"column\": \"genre\",\n      \"properties\": {\n        \"dtype\": \"object\",\n        \"semantic_type\": \"\",\n        \"description\": \"\"\n      }\n    },\n    {\n      \"column\": \"rating\",\n      \"properties\": {\n        \"dtype\": \"number\",\n        \"std\": 0.9679660987653845,\n        \"min\": 2.4,\n        \"max\": 9.5,\n        \"num_unique_values\": 60,\n        \"samples\": [\n          6.9,\n          5.7,\n          5.4\n        ],\n        \"semantic_type\": \"\",\n        \"description\": \"\"\n      }\n    },\n    {\n      \"column\": \"release_date\",\n      \"properties\": {\n        \"dtype\": \"string\",\n        \"num_unique_values\": 1208,\n        \"samples\": [\n          \"1991-09-27\",\n          \"2000-11-22\",\n          \"2004-11-18\"\n        ],\n        \"semantic_type\": \"\",\n        \"description\": \"\"\n      }\n    },\n    {\n      \"column\": \"plot_synopsis\",\n      \"properties\": {\n        \"dtype\": \"string\",\n        \"num_unique_values\": 1340,\n        \"samples\": [\n          \"In Moscow, Viktor Chagarin (Sergei Kolesnikov), a high-ranking but corrupt Russian official, plans on incriminating political prisoner and government whistleblower Yuri Komarov (Sebastian Koch) without a fair trial when Komarov refuses to hand over a secret file believed to have convicting evidence against Chagarin. In a separate incident, Jack McClane (Jai Courtney) is arrested as a result of an assassination, but agrees to testify against Komarov for a shorter sentence.John McClane (Bruce Willis), who has not been in touch with his son in years, learns of Jack's whereabouts and circumstances and decides to go to Russia to help him out. When John arrives and approaches the courthouse that happens to currently hold Jack and Komarov on trial, an explosion orchestrated by Chagarin and his henchmen occurs in the courthouse, and Jack breaks free with Komarov. Seeing his son, John confronts him, but their dispute is cut short when the henchmen, led by Alik (Radivoje Bukvi), chase them on the streets of Moscow, but John, Jack, and Komarov manage to escape.Hiding in a safe house, John finds out that Jack has been a CIA Officer in an undercover operation for the past three years. Meanwhile, Collins (Cole Hauser), Jack's partner, demands the file's location from Komarov, so that the CIA can bring Chagarin down, but Collins is soon shot by Chagarin's men and dies, as John, Jack, and Komarov survive subsequent heavy gunfire and escape once again. The trio then make their way to a hotel in the city to find the key to a vault containing the file. There, they meet Komarov's daughter, Irina (Yuliya Snigir), whom they earlier planned on joining with, but John grows suspicious of Irina. His suspicions are proven correct when Alik and his men crash in and tie John and Jack up, while Komarov is taken as a hostage, and Irina confesses to snitching on them for the \\\"millions of dollars\\\" to be gained. However, Jack manages to break free of his ties, and the father-son duo fights back, culminating in a gunfire exchange that results in John and Jack's escape.That night, the two steal a car full of firearms and drive to Chernobyl, Ukraine, which is the location of the vault that houses the file, as revealed earlier by Komarov at the safe house. When they arrive, they find that Komarov, Irina, and Alik have already gotten there, but what they don't know is that on their way there, it was revealed that there was never a file in existence, and that the vault actually contains billions of dollars worth of weapons-grade uranium. Alik is then shot in the head by the seemingly helpless Komarov, who later called Chagarin and told him that he and Irina had manipulated the entire sequence of events since the beginning in an attempt to obtain the uranium and get revenge on Chagarin for his past betrayal of Komarov. Chagarin was then killed by a subordinate of Komarov's.At this point, John and Jack enter the vault, discover Komarov's true plot, and take him under arrest. Irina, with another henchman, comes to her father's aid, but before they can escape, Jack goes after Komarov, while John goes after Irina, who is escaping on a helicopter. Irina tries to protect her father by firing the helicopter's cannons at Jack, but John is able to bring the helicopter out of balance by driving a truck in the hangar section of the helicopter, still shackled by a rope, out of the open back door, muttering his catchphrase of \\\"Yippee ki-yay, motherfucker.\\\" In rage, Jack hurls Komarov off the rooftop, and Komarov falls into the spinning helicopter's rotors and is killed. John jumps off the helicopter and reunites with Jack inside the building. Wanting to avenge her father, Irina rams the helicopter into the building, destroying the building and killing herself in the process, but John and Jack survive by leaping off the building into a large pool of water.Afterwards, John and Jack return to New York. At the airport, they meet Lucy (Mary Elizabeth Winstead), John's oldest child and Jack's sister, and the reunited family happily walks off together.\",\n          \"The movie opens with an 11-year-old girl and her mother standing by the subway waiting for it to arrive. Two men come and shove the mother, stealing her purse. The men climb on the subway and the woman and her daughter stay off. Just before the subway leaves one of the men shoots the mother. The young girl screams. We then see Sgt. Neil Craig run in and hug the young girl and we discover that this policeman is the girls father (Chris Cooper)The next scene opens by showing a very unkempt apartment. We see Tyler (Robert Pattinson) on the porch smoking, and drinking. Tyler gets a call and quickly puts on a suit and runs out the door. He goes to a graveyard where his father (Pierce Brosnan) his mother (Lena Olin) and his sister (Ruby Jerins) are laying stones on a grave. The grave belongs to a Michael Hawkins. They go to a coffee shop and his mother remarks that Michael would have liked to know they still went to the coffee shop. The coffee shop was Michael and Tyler's special place. Tyler's sister Caroline begins to talk about an art exhibit she has when her father rudely interrupts her to ask for the sugar. Tyler yells at his father and runs out of the coffee shop. Before leaving he moves the sugar away from his father.We see Tyler walking with his roommate Aidan (Tate Ellington). Aidan suggests selling a kit to girls who have one night stands. We learn that Tyler had a one-night stand the night before. Aidan tells Tyler to call the kit S.L.U.T. Tyler laughs at him but is obviously depressed. Aidan convinces Tyler to go out for \\\"just one drink!\\\" Tyler and Aidan party at the bar and leave completely drunk with two girls from Miami. Tyler sees a fight going on and he runs in to break it up. Tyler begins to smack one guy repeatedly, very violently. Aidan follows him to try to stop him and in the struggle Tyler hits one of the Miami girls in the nose. The police come and break up the fight and the other Miami girl tells the police that Tyler and Aidan are innocent. The police set them free and Tyler thinks that only two of the people involved should be arrested. He yells at the policeman (the same policeman we saw before played by Chris Cooper) that he's supposed to give a shit. The policeman tells him to go home. Tyler ends up hitting the policeman and the policeman slaps his face hard against the police car. Tyler and Aidan both go to jail and Aidan says that Tyler might want to throw his life away but he doesn't.Aidan and Tyler's bails are both posted and Tyler goes to see his father. He says he'll pay the lawyers fee and that he doesn't want to be bailed out of anything. He also says \\\"I didn't call you\\\" meaning he doesn't want his father's help.We see the policeman and his daughter (the young girl who lost her mother) portrayed by Emilie de Ravin. We learn her name is Ally. Her father drives her to school at NYU.At the NYU campus we see Aidan arguing with a teacher over a grade and trying to flirt with her in order to improve his grade. He sees Ally and her father pull up and he recognizes her father from the night before. He runs home to tell Tyler and suggests that Tyler take her out on a date and then dump her or steal her panties and sell them as revenge for her father scarring Tyler's face. Aidan points her out to Tyler when they're back at school and Tyler recognizes her from his social policies class. (Earlier we had seen her answer a question about terrorism in Tyler's class.) He tells her he is doing an experiment with women in their early twenties to find out how much of an A-hole Aidan is. She says she's 19 and he offers to take her to dinner as the reward for being in the survey. She seems reluctant but accepts.He calls her before he leaves to dinner and says, \\\"I know you're going to stand me up.\\\" We see that this was her plan as she is in sweatpants on her bed. She lies and tells him shes on her way and gets dressed in a hurry. Her father asks her where she's going and who she's going with (very overprotective.) We see them at the restaurant where she explains why she orders her dessert first. We learn she is constantly wary of death and has a fear of asteroids. They go to a fair and Tyler pays off a game attendant to get a panda for Ally. She gets into a taxi (she doesn't take the subway) and Tyler tries to kiss her. She says \\\"Not tonight\\\" and Tyler remarks that she eats her dessert first for fear of choking but won't kiss him before she drives off into the unknown. She interrupts him with a kiss and the taxi drives off.Tyler picks up his sister Caroline from school and they go to Central Park where they discuss her bullies, her art exhibit and that she believes their father doesn't like her.Tyler is making spaghetti for Ally on their second date. She notices pictures of Michael and that Tyler has a tattoo on his chest that says Michael. Tyler sprays Ally with water and they get in a water fight, eventually leading to a make out session in the shower. Aidan comes back and tells them to go to a party upstairs and have \\\"just one drink.\\\"The scene then cuts to Tyler holding Ally's hair as she vomits over the toilet. She says to call her dad before she falls asleep but her cell battery is dead. Ally wakes up the next morning and her father has been searching all night for her. She knows how worried he gets and runs home and he yells at her for being out all night with a boy and coming home smelling like alcohol. She says he doesn't have to be on top of her just because he couldn't save her mother and he slaps her on the face and cuts her lip.She runs off to Tyler's house and falls asleep there. She wakes up and she and Tyler have sex.Tyler leaves her to go to the coffee shop that was special to him and Michael and writes about her to Michael. When Tyler comes back he explains to Ally that he had to tell Michael about her.Tyler has a birthday party at his mother's house (he turns 22 the same age his brother was when he killed himself.) Caroline talks to Tyler, Aidan and Ally about her art exhibition. Tyler's mother worries that his father won't show up. Tyler says I won't let that happen and he invites his father to dinner with him and Ally before the art show. Ally asks Caroline if she minds Ally, a \\\"random girl\\\" coming to the exhibition. Caroline says, \\\"You're not random. You're Tyler's girlfriend.\\\" During this conversation Caroline tells Ally that the Met is one of her favorite places in the world.Tyler's father shows up late to dinner and they have a discussion about the Yankees. Ally tells Tyler and his father about when she saw her mother murdered. Tyler's father gets a call and says I have to go but I'll meet you at the exhibition. He stands up Caroline's exhibition and she is heartbroken.Tyler takes Ally to his apartment and rides his bike to his father's office. We can tell he is furious. He runs into his father's business meeting and yells at him. He asks him why he isn't riveted by everything Caroline says. The clients of Tyler's father offer to leave and he yells, \\\"Sit the fuck down!\\\" Tyler adds that the other children are going to hang themselves on his watch. (We had learned that Tyler's brother Michael hung himself after beginning to work for his father and Tyler's the one who found his body.)Tyler goes home crying and Ally tries to reassure him.There's then a montage of scenes of Ally and Tyler being in love (going to the beach, etc).We see Ally's father picking up the phone to hear a message from Ally saying she's all right.Ally and Tyler are riding a train with Aidan who remarks that he has slept with a person from every country. Ally challenges him with an Eskimo and he goes to show her the Eskimo librarian he slept with while Tyler goes home.Tyler hears something in his house and picks up a bat. He sees Ally's father sitting on his bed. (He traced the call and found Tyler.) Ally's father asks if Ally knows how Tyler got his scars. Tyler says no. Ally's father attacks Tyler and tries to strangle him and then leaves. Tyler breaks down.Ally comes home and Tyler tells her the truth. She breaks up with him and goes home to her father.Tyler takes Caroline to a slumber party. We see Caroline standing tentatively by the door, afraid to go in.We see Ally at home giving her father cooking advice. Aidan comes to their house and says it was his fault that Tyler didn't tell Ally how he got his scars and why he was dating her and she should forgive Tyler.We see Caroline calling her mother sobbing and begging to be picked up from the slumber party. At night some of the girls who had bullied her had sheared off half of her hair.We see Ally and Aidan in Tyler's mother's apartment where she is sobbing. Tyler is lying on the bed with Caroline who is also sobbing. Tyler won't leave until she is asleep. Then Tyler and Ally go out to the porch and talk. Tyler's father comes to comfort Caroline, which is surprising because no one thought he really loved her.Tyler takes Caroline to school where she has a new haircut and the girl who cut her hair remarks that she likes it. Tyler shoves the girls desk and throws a fire extinguisher out the classroom window.Tyler goes to jail for vandalism and his father posts his bail. Tyler's father says he is taking care of the bully problem at Caroline's school. He asks Tyler to come to his office the next day to talk to the lawyers. Tyler says again that he didn't call him.Tyler spends the night with Ally and leaves her a note saying he'll be back.Tyler's father doesn't expect Tyler to show up on time so he goes to take Caroline to school. When Tyler calls him and says he is at the office he is surprised and tells him to wait. Tyler sits in his fathers chair and notices that the screensaver on his father's computer is pictures of their family. Tyler didn't realize his father cared that much.We cut to a teacher writing the date on the board at Caroline's school, September 11 2001.We see Tyler looking out the window of his father's office as if he heard something. The screen moves back and we see that Tyler is in the 92nd floor of one of the twin towers. The shot fades to black.We then see..\\nTyler's mother, Caroline, and his father run outside sobbing.\\nAlly and Aidan confusedly run to the roof of their building and burst into tears.\\nAlly's father instructs other policemen near the twin towers while sobbing.\\nWe see Tyler's journal among the rubble.Cut to Caroline leaving stones on Tyler's grave and we hear a voiceover of Tyler saying he forgives Michael for killing himself. We see Tyler's father taking Caroline to the Met, one of her favorite places in the world. We see Aidan with a tattoo on his arm that says Tyler. Then we see Ally waiting on the subway platform where her mother was murdered. She gets on the subway for the first time in years and smiles as the credits roll.\",\n          \"Viola Hastings (Amanda Bynes) is a high school soccer player who learns that the girls' team at her school, Cornwall, is being cut. After her request to join the boys' team is refused, she finds a way to play for Cornwall's rival Illyria.Viola's twin brother Sebastian, whom she resembles physically, is supposed to enter Illyria as a new student. However, he plans to visit London secretly to enter a contest with his rock band. Sebastian asks Viola to cover for him by telling the school that he is sick and each of their parents (who are divorced) that he is staying with the other.Viola instead decides to pass herself off as Sebastian and join the boys' soccer team at Illyria. She hopes to beat the Cornwall team and humiliate her goalie ex-boyfriend Justin (Robert Hoffman). With the help of her friends Paul (Jonathan Sadowski), Kia (Amanda Crew), and Yvonne (Jessica Lucas), Viola becomes \\\"Sebastian\\\".At Illyria, Viola's roommate is Duke Orsino (Channing Tatum), a good-looking striker on the soccer team. Kia and Yvonne agree to help Viola make her alter ego seem popular by pretending to be in love with \\\"Sebastian\\\". Viola also publicly breaks up with the real Sebastian's girlfriend, Monique. Duke and his friends are impressed, but Viola's soccer skills are still not good enough to make first string. It looks like Viola may not be able to play in the game against Cornwall after all.After spending so much time with him, Viola realizes that she has fallen in love with Duke. However, Duke is only interested in Viola's lab partner, Olivia (Laura Ramsey). In exchange for Viola's help in getting Olivia's attention, Duke agrees to put in extra soccer practice time with her. The practice pays off when Coach Dinklage (Vinnie Jones) promotes Viola to first string.By this time, Olivia has developed a crush on \\\"Sebastian\\\". Since \\\"Sebastian\\\" isn't interested in her, Olivia decides to go out with Duke to make him jealous. Meanwhile, Monique and her friend Malcolm find out Viola's secret identity.The plot is complicated when the real Sebastian returns from London early. When he arrives at Illyria, Olivia runs up and kisses him. Duke sees this and thinks his roommate has betrayed him. He kicks Viola out of their room.On the day of the big game, Monique and Malcolm reveal the truth about Viola to Principal Gold. But because Viola has overslept, the real Sebastian winds up on the field playing in what should be his sister's spot. Principal Gold stops the game but Sebastian proves that he really is a boy yanking off his shorts and exposing his penis. At half time, Viola explains the situation to Sebastian and they switch places again.Duke is still angry with \\\"Sebastian\\\" and refuses to pass the ball to Viola. She tries to explain that she really is a girl, finally convincing Duke and everyone else by showing them her breasts. The coach agrees to let Viola keep playing anyway. Illyria wins the game on a penalty kick when Viola scores a goal by tricking her ex-boyfriend Justin.Everyone at Illyria rejoices after the victory, except for Duke who is hurt at Viola's deception. She invites Duke to her debutante ball, where they reconcile. As the movie ends, Viola is seen playing on Illyria's soccer team.\"\n        ],\n        \"semantic_type\": \"\",\n        \"description\": \"\"\n      }\n    }\n  ]\n}",
              "type": "dataframe",
              "variable_name": "df_movies"
            },
            "text/html": [
              "\n",
              "  <div id=\"df-9ca9a962-b6ec-43de-b7e6-bc93af4eb031\" class=\"colab-df-container\">\n",
              "    <div>\n",
              "<style scoped>\n",
              "    .dataframe tbody tr th:only-of-type {\n",
              "        vertical-align: middle;\n",
              "    }\n",
              "\n",
              "    .dataframe tbody tr th {\n",
              "        vertical-align: top;\n",
              "    }\n",
              "\n",
              "    .dataframe thead th {\n",
              "        text-align: right;\n",
              "    }\n",
              "</style>\n",
              "<table border=\"1\" class=\"dataframe\">\n",
              "  <thead>\n",
              "    <tr style=\"text-align: right;\">\n",
              "      <th></th>\n",
              "      <th>movie_id</th>\n",
              "      <th>plot_summary</th>\n",
              "      <th>duration</th>\n",
              "      <th>genre</th>\n",
              "      <th>rating</th>\n",
              "      <th>release_date</th>\n",
              "      <th>plot_synopsis</th>\n",
              "    </tr>\n",
              "  </thead>\n",
              "  <tbody>\n",
              "    <tr>\n",
              "      <th>0</th>\n",
              "      <td>tt0105112</td>\n",
              "      <td>Former CIA analyst, Jack Ryan is in England wi...</td>\n",
              "      <td>1h 57min</td>\n",
              "      <td>[Action, Thriller]</td>\n",
              "      <td>6.9</td>\n",
              "      <td>1992-06-05</td>\n",
              "      <td>Jack Ryan (Ford) is on a \"working vacation\" in...</td>\n",
              "    </tr>\n",
              "    <tr>\n",
              "      <th>1</th>\n",
              "      <td>tt1204975</td>\n",
              "      <td>Billy (Michael Douglas), Paddy (Robert De Niro...</td>\n",
              "      <td>1h 45min</td>\n",
              "      <td>[Comedy]</td>\n",
              "      <td>6.6</td>\n",
              "      <td>2013-11-01</td>\n",
              "      <td>Four boys around the age of 10 are friends in ...</td>\n",
              "    </tr>\n",
              "    <tr>\n",
              "      <th>2</th>\n",
              "      <td>tt0243655</td>\n",
              "      <td>The setting is Camp Firewood, the year 1981. I...</td>\n",
              "      <td>1h 37min</td>\n",
              "      <td>[Comedy, Romance]</td>\n",
              "      <td>6.7</td>\n",
              "      <td>2002-04-11</td>\n",
              "      <td></td>\n",
              "    </tr>\n",
              "    <tr>\n",
              "      <th>3</th>\n",
              "      <td>tt0040897</td>\n",
              "      <td>Fred C. Dobbs and Bob Curtin, both down on the...</td>\n",
              "      <td>2h 6min</td>\n",
              "      <td>[Adventure, Drama, Western]</td>\n",
              "      <td>8.3</td>\n",
              "      <td>1948-01-24</td>\n",
              "      <td>Fred Dobbs (Humphrey Bogart) and Bob Curtin (T...</td>\n",
              "    </tr>\n",
              "    <tr>\n",
              "      <th>4</th>\n",
              "      <td>tt0126886</td>\n",
              "      <td>Tracy Flick is running unopposed for this year...</td>\n",
              "      <td>1h 43min</td>\n",
              "      <td>[Comedy, Drama, Romance]</td>\n",
              "      <td>7.3</td>\n",
              "      <td>1999-05-07</td>\n",
              "      <td>Jim McAllister (Matthew Broderick) is a much-a...</td>\n",
              "    </tr>\n",
              "  </tbody>\n",
              "</table>\n",
              "</div>\n",
              "    <div class=\"colab-df-buttons\">\n",
              "\n",
              "  <div class=\"colab-df-container\">\n",
              "    <button class=\"colab-df-convert\" onclick=\"convertToInteractive('df-9ca9a962-b6ec-43de-b7e6-bc93af4eb031')\"\n",
              "            title=\"Convert this dataframe to an interactive table.\"\n",
              "            style=\"display:none;\">\n",
              "\n",
              "  <svg xmlns=\"http://www.w3.org/2000/svg\" height=\"24px\" viewBox=\"0 -960 960 960\">\n",
              "    <path d=\"M120-120v-720h720v720H120Zm60-500h600v-160H180v160Zm220 220h160v-160H400v160Zm0 220h160v-160H400v160ZM180-400h160v-160H180v160Zm440 0h160v-160H620v160ZM180-180h160v-160H180v160Zm440 0h160v-160H620v160Z\"/>\n",
              "  </svg>\n",
              "    </button>\n",
              "\n",
              "  <style>\n",
              "    .colab-df-container {\n",
              "      display:flex;\n",
              "      gap: 12px;\n",
              "    }\n",
              "\n",
              "    .colab-df-convert {\n",
              "      background-color: #E8F0FE;\n",
              "      border: none;\n",
              "      border-radius: 50%;\n",
              "      cursor: pointer;\n",
              "      display: none;\n",
              "      fill: #1967D2;\n",
              "      height: 32px;\n",
              "      padding: 0 0 0 0;\n",
              "      width: 32px;\n",
              "    }\n",
              "\n",
              "    .colab-df-convert:hover {\n",
              "      background-color: #E2EBFA;\n",
              "      box-shadow: 0px 1px 2px rgba(60, 64, 67, 0.3), 0px 1px 3px 1px rgba(60, 64, 67, 0.15);\n",
              "      fill: #174EA6;\n",
              "    }\n",
              "\n",
              "    .colab-df-buttons div {\n",
              "      margin-bottom: 4px;\n",
              "    }\n",
              "\n",
              "    [theme=dark] .colab-df-convert {\n",
              "      background-color: #3B4455;\n",
              "      fill: #D2E3FC;\n",
              "    }\n",
              "\n",
              "    [theme=dark] .colab-df-convert:hover {\n",
              "      background-color: #434B5C;\n",
              "      box-shadow: 0px 1px 3px 1px rgba(0, 0, 0, 0.15);\n",
              "      filter: drop-shadow(0px 1px 2px rgba(0, 0, 0, 0.3));\n",
              "      fill: #FFFFFF;\n",
              "    }\n",
              "  </style>\n",
              "\n",
              "    <script>\n",
              "      const buttonEl =\n",
              "        document.querySelector('#df-9ca9a962-b6ec-43de-b7e6-bc93af4eb031 button.colab-df-convert');\n",
              "      buttonEl.style.display =\n",
              "        google.colab.kernel.accessAllowed ? 'block' : 'none';\n",
              "\n",
              "      async function convertToInteractive(key) {\n",
              "        const element = document.querySelector('#df-9ca9a962-b6ec-43de-b7e6-bc93af4eb031');\n",
              "        const dataTable =\n",
              "          await google.colab.kernel.invokeFunction('convertToInteractive',\n",
              "                                                    [key], {});\n",
              "        if (!dataTable) return;\n",
              "\n",
              "        const docLinkHtml = 'Like what you see? Visit the ' +\n",
              "          '<a target=\"_blank\" href=https://colab.research.google.com/notebooks/data_table.ipynb>data table notebook</a>'\n",
              "          + ' to learn more about interactive tables.';\n",
              "        element.innerHTML = '';\n",
              "        dataTable['output_type'] = 'display_data';\n",
              "        await google.colab.output.renderOutput(dataTable, element);\n",
              "        const docLink = document.createElement('div');\n",
              "        docLink.innerHTML = docLinkHtml;\n",
              "        element.appendChild(docLink);\n",
              "      }\n",
              "    </script>\n",
              "  </div>\n",
              "\n",
              "\n",
              "<div id=\"df-9fcd9e68-10c0-4f9c-91f6-4dcb6f9b92c3\">\n",
              "  <button class=\"colab-df-quickchart\" onclick=\"quickchart('df-9fcd9e68-10c0-4f9c-91f6-4dcb6f9b92c3')\"\n",
              "            title=\"Suggest charts\"\n",
              "            style=\"display:none;\">\n",
              "\n",
              "<svg xmlns=\"http://www.w3.org/2000/svg\" height=\"24px\"viewBox=\"0 0 24 24\"\n",
              "     width=\"24px\">\n",
              "    <g>\n",
              "        <path d=\"M19 3H5c-1.1 0-2 .9-2 2v14c0 1.1.9 2 2 2h14c1.1 0 2-.9 2-2V5c0-1.1-.9-2-2-2zM9 17H7v-7h2v7zm4 0h-2V7h2v10zm4 0h-2v-4h2v4z\"/>\n",
              "    </g>\n",
              "</svg>\n",
              "  </button>\n",
              "\n",
              "<style>\n",
              "  .colab-df-quickchart {\n",
              "      --bg-color: #E8F0FE;\n",
              "      --fill-color: #1967D2;\n",
              "      --hover-bg-color: #E2EBFA;\n",
              "      --hover-fill-color: #174EA6;\n",
              "      --disabled-fill-color: #AAA;\n",
              "      --disabled-bg-color: #DDD;\n",
              "  }\n",
              "\n",
              "  [theme=dark] .colab-df-quickchart {\n",
              "      --bg-color: #3B4455;\n",
              "      --fill-color: #D2E3FC;\n",
              "      --hover-bg-color: #434B5C;\n",
              "      --hover-fill-color: #FFFFFF;\n",
              "      --disabled-bg-color: #3B4455;\n",
              "      --disabled-fill-color: #666;\n",
              "  }\n",
              "\n",
              "  .colab-df-quickchart {\n",
              "    background-color: var(--bg-color);\n",
              "    border: none;\n",
              "    border-radius: 50%;\n",
              "    cursor: pointer;\n",
              "    display: none;\n",
              "    fill: var(--fill-color);\n",
              "    height: 32px;\n",
              "    padding: 0;\n",
              "    width: 32px;\n",
              "  }\n",
              "\n",
              "  .colab-df-quickchart:hover {\n",
              "    background-color: var(--hover-bg-color);\n",
              "    box-shadow: 0 1px 2px rgba(60, 64, 67, 0.3), 0 1px 3px 1px rgba(60, 64, 67, 0.15);\n",
              "    fill: var(--button-hover-fill-color);\n",
              "  }\n",
              "\n",
              "  .colab-df-quickchart-complete:disabled,\n",
              "  .colab-df-quickchart-complete:disabled:hover {\n",
              "    background-color: var(--disabled-bg-color);\n",
              "    fill: var(--disabled-fill-color);\n",
              "    box-shadow: none;\n",
              "  }\n",
              "\n",
              "  .colab-df-spinner {\n",
              "    border: 2px solid var(--fill-color);\n",
              "    border-color: transparent;\n",
              "    border-bottom-color: var(--fill-color);\n",
              "    animation:\n",
              "      spin 1s steps(1) infinite;\n",
              "  }\n",
              "\n",
              "  @keyframes spin {\n",
              "    0% {\n",
              "      border-color: transparent;\n",
              "      border-bottom-color: var(--fill-color);\n",
              "      border-left-color: var(--fill-color);\n",
              "    }\n",
              "    20% {\n",
              "      border-color: transparent;\n",
              "      border-left-color: var(--fill-color);\n",
              "      border-top-color: var(--fill-color);\n",
              "    }\n",
              "    30% {\n",
              "      border-color: transparent;\n",
              "      border-left-color: var(--fill-color);\n",
              "      border-top-color: var(--fill-color);\n",
              "      border-right-color: var(--fill-color);\n",
              "    }\n",
              "    40% {\n",
              "      border-color: transparent;\n",
              "      border-right-color: var(--fill-color);\n",
              "      border-top-color: var(--fill-color);\n",
              "    }\n",
              "    60% {\n",
              "      border-color: transparent;\n",
              "      border-right-color: var(--fill-color);\n",
              "    }\n",
              "    80% {\n",
              "      border-color: transparent;\n",
              "      border-right-color: var(--fill-color);\n",
              "      border-bottom-color: var(--fill-color);\n",
              "    }\n",
              "    90% {\n",
              "      border-color: transparent;\n",
              "      border-bottom-color: var(--fill-color);\n",
              "    }\n",
              "  }\n",
              "</style>\n",
              "\n",
              "  <script>\n",
              "    async function quickchart(key) {\n",
              "      const quickchartButtonEl =\n",
              "        document.querySelector('#' + key + ' button');\n",
              "      quickchartButtonEl.disabled = true;  // To prevent multiple clicks.\n",
              "      quickchartButtonEl.classList.add('colab-df-spinner');\n",
              "      try {\n",
              "        const charts = await google.colab.kernel.invokeFunction(\n",
              "            'suggestCharts', [key], {});\n",
              "      } catch (error) {\n",
              "        console.error('Error during call to suggestCharts:', error);\n",
              "      }\n",
              "      quickchartButtonEl.classList.remove('colab-df-spinner');\n",
              "      quickchartButtonEl.classList.add('colab-df-quickchart-complete');\n",
              "    }\n",
              "    (() => {\n",
              "      let quickchartButtonEl =\n",
              "        document.querySelector('#df-9fcd9e68-10c0-4f9c-91f6-4dcb6f9b92c3 button');\n",
              "      quickchartButtonEl.style.display =\n",
              "        google.colab.kernel.accessAllowed ? 'block' : 'none';\n",
              "    })();\n",
              "  </script>\n",
              "</div>\n",
              "\n",
              "    </div>\n",
              "  </div>\n"
            ],
            "text/plain": [
              "    movie_id                                       plot_summary  duration  \\\n",
              "0  tt0105112  Former CIA analyst, Jack Ryan is in England wi...  1h 57min   \n",
              "1  tt1204975  Billy (Michael Douglas), Paddy (Robert De Niro...  1h 45min   \n",
              "2  tt0243655  The setting is Camp Firewood, the year 1981. I...  1h 37min   \n",
              "3  tt0040897  Fred C. Dobbs and Bob Curtin, both down on the...   2h 6min   \n",
              "4  tt0126886  Tracy Flick is running unopposed for this year...  1h 43min   \n",
              "\n",
              "                         genre  rating release_date  \\\n",
              "0           [Action, Thriller]     6.9   1992-06-05   \n",
              "1                     [Comedy]     6.6   2013-11-01   \n",
              "2            [Comedy, Romance]     6.7   2002-04-11   \n",
              "3  [Adventure, Drama, Western]     8.3   1948-01-24   \n",
              "4     [Comedy, Drama, Romance]     7.3   1999-05-07   \n",
              "\n",
              "                                       plot_synopsis  \n",
              "0  Jack Ryan (Ford) is on a \"working vacation\" in...  \n",
              "1  Four boys around the age of 10 are friends in ...  \n",
              "2                                                     \n",
              "3  Fred Dobbs (Humphrey Bogart) and Bob Curtin (T...  \n",
              "4  Jim McAllister (Matthew Broderick) is a much-a...  "
            ]
          },
          "execution_count": 2,
          "metadata": {},
          "output_type": "execute_result"
        }
      ],
      "source": [
        "#Loading the movie information dataset and reading the JSON to a dataframe\n",
        "df_movies = pd.read_json('/content/drive/MyDrive/IMDB_movie_details.json',lines=True)\n",
        "\n",
        "# Displaying the first few rows of the data\n",
        "df_movies.head()"
      ]
    },
    {
      "cell_type": "code",
      "execution_count": null,
      "metadata": {
        "colab": {
          "base_uri": "https://localhost:8080/"
        },
        "id": "KE1PK5_WG5OP",
        "outputId": "b0279067-0ddb-4a06-b9ae-a355c9072af3"
      },
      "outputs": [
        {
          "data": {
            "text/plain": [
              "(1572, 7)"
            ]
          },
          "execution_count": 8,
          "metadata": {},
          "output_type": "execute_result"
        }
      ],
      "source": [
        "# Displaying the shape of the data\n",
        "df_movies.shape"
      ]
    },
    {
      "cell_type": "code",
      "execution_count": null,
      "metadata": {
        "colab": {
          "base_uri": "https://localhost:8080/"
        },
        "id": "BIzdbYXTmoBI",
        "outputId": "ecac4365-5fc2-40d2-fd68-ebcd6190b0a1"
      },
      "outputs": [
        {
          "data": {
            "text/plain": [
              "(573906, 13)"
            ]
          },
          "execution_count": 9,
          "metadata": {},
          "output_type": "execute_result"
        }
      ],
      "source": [
        "#Merging the Movie and Review data on the common field 'movie_id'\n",
        "merged_df = pd.merge(df_reviews, df_movies, on='movie_id', how='inner')\n",
        "\n",
        "# Display the merged DataFrameset"
      ]
    },
    {
      "cell_type": "code",
      "execution_count": 1,
      "metadata": {
        "id": "R1yK6IuEmzxb",
        "colab": {
          "base_uri": "https://localhost:8080/",
          "height": 156
        },
        "outputId": "d20f3979-ff7d-4355-e807-3e89135b0d75"
      },
      "outputs": [
        {
          "output_type": "error",
          "ename": "NameError",
          "evalue": "name 'merged_df' is not defined",
          "traceback": [
            "\u001b[0;31m---------------------------------------------------------------------------\u001b[0m",
            "\u001b[0;31mNameError\u001b[0m                                 Traceback (most recent call last)",
            "\u001b[0;32m<ipython-input-1-91c5f0b7d709>\u001b[0m in \u001b[0;36m<cell line: 2>\u001b[0;34m()\u001b[0m\n\u001b[1;32m      1\u001b[0m \u001b[0;31m#Exporting the Merged Data as a CSV\u001b[0m\u001b[0;34m\u001b[0m\u001b[0;34m\u001b[0m\u001b[0m\n\u001b[0;32m----> 2\u001b[0;31m \u001b[0mmerged_df\u001b[0m\u001b[0;34m.\u001b[0m\u001b[0mto_csv\u001b[0m\u001b[0;34m(\u001b[0m\u001b[0;34m'Movie_Review_Dataset_final.csv'\u001b[0m\u001b[0;34m)\u001b[0m\u001b[0;34m\u001b[0m\u001b[0;34m\u001b[0m\u001b[0m\n\u001b[0m",
            "\u001b[0;31mNameError\u001b[0m: name 'merged_df' is not defined"
          ]
        }
      ],
      "source": [
        "#Exporting the Merged Data as a CSV\n",
        "merged_df.to_csv('Movie_Review_Dataset_final.csv')"
      ]
    },
    {
      "cell_type": "code",
      "execution_count": 1,
      "metadata": {
        "id": "mWUi0REMohaM"
      },
      "outputs": [],
      "source": [
        "#Loading the merged dataset into a dataframe\n",
        "import pandas as pd\n",
        "df = pd.read_csv('/content/drive/MyDrive/Movie_Review_Dataset_final.csv')"
      ]
    },
    {
      "cell_type": "markdown",
      "metadata": {
        "id": "B7q-JR2aVcxV"
      },
      "source": [
        "Text Cleaning"
      ]
    },
    {
      "cell_type": "code",
      "execution_count": 2,
      "metadata": {
        "id": "iZdZo4SrpqhC"
      },
      "outputs": [],
      "source": [
        "#Installing necessary packages for text cleaning and preprocessing\n",
        "import re\n",
        "import string\n",
        "import nltk\n",
        "from nltk.corpus import stopwords\n",
        "from nltk.tokenize import word_tokenize\n",
        "from nltk.stem import WordNetLemmatizer\n",
        "import matplotlib.pyplot as plt\n",
        "import seaborn as sns\n",
        "from wordcloud import WordCloud"
      ]
    },
    {
      "cell_type": "code",
      "execution_count": 3,
      "metadata": {
        "id": "0qeXSfOQrK1o"
      },
      "outputs": [],
      "source": [
        "#Text Cleaning for the review text data\n",
        "\n",
        "#Remove URLS\n",
        "df['cleaned_review'] = df['review_text'].apply(lambda x: re.sub(r'http\\S+|www\\S+|https\\S+', '', x, flags=re.MULTILINE))\n",
        "\n",
        "# Remove user mentions\n",
        "df['cleaned_review'] = df['cleaned_review'].apply(lambda x: re.sub(r'@\\w+', '', x))\n",
        "\n",
        "# Remove hashtags\n",
        "df['cleaned_review'] = df['cleaned_review'].apply(lambda x: re.sub(r'#\\w+', '', x))\n",
        "\n",
        "# Remove punctuation\n",
        "df['cleaned_review'] = df['cleaned_review'].apply(lambda x: x.translate(str.maketrans('', '', string.punctuation)))\n",
        "\n",
        "# Remove numbers\n",
        "df['cleaned_review'] = df['cleaned_review'].apply(lambda x: re.sub(r'\\d+', '', x))"
      ]
    },
    {
      "cell_type": "code",
      "execution_count": null,
      "metadata": {
        "colab": {
          "base_uri": "https://localhost:8080/"
        },
        "id": "6__mWbhJs6Yt",
        "outputId": "33ee3a4f-9cb3-4a7b-ea47-f0dddc1005ec"
      },
      "outputs": [
        {
          "data": {
            "text/plain": [
              "0         In its Oscar year Shawshank Redemption written...\n",
              "1         The Shawshank Redemption is without a doubt on...\n",
              "2         I believe that this film is the best story eve...\n",
              "3         Yes there are SPOILERS hereThis film has had s...\n",
              "4         At the heart of this extraordinary movie is a ...\n",
              "                                ...                        \n",
              "573901    Go is wise fast and pure entertainment Assembl...\n",
              "573902    Well what shall I say this one´s fun at any ra...\n",
              "573903    Go is the best movie I have ever seen and Ive ...\n",
              "573904    Call this  teenage version of Pulp Fiction wha...\n",
              "573905    Why was this movie made No doubt to sucker in ...\n",
              "Name: cleaned_review, Length: 573906, dtype: object"
            ]
          },
          "execution_count": 9,
          "metadata": {},
          "output_type": "execute_result"
        }
      ],
      "source": [
        "# Displaying the cleaned review text column\n",
        "df['cleaned_review']"
      ]
    },
    {
      "cell_type": "markdown",
      "metadata": {
        "id": "Nzo9gwO7VYXB"
      },
      "source": [
        "Text Preprocessing Techniques"
      ]
    },
    {
      "cell_type": "code",
      "execution_count": 4,
      "metadata": {
        "id": "NRgENP8tVLPc"
      },
      "outputs": [],
      "source": [
        "#Lowercasing\n",
        "\n",
        "#Convert review to lowercase\n",
        "df['cleaned_review'] = df['cleaned_review'].str.lower()"
      ]
    },
    {
      "cell_type": "code",
      "execution_count": 6,
      "metadata": {
        "colab": {
          "base_uri": "https://localhost:8080/"
        },
        "id": "ZvyPRBVBVOWH",
        "outputId": "0b224965-d5e6-41aa-b640-f7d5511f2d04"
      },
      "outputs": [
        {
          "output_type": "stream",
          "name": "stderr",
          "text": [
            "[nltk_data] Downloading package stopwords to /root/nltk_data...\n",
            "[nltk_data]   Package stopwords is already up-to-date!\n",
            "[nltk_data] Downloading package punkt to /root/nltk_data...\n",
            "[nltk_data]   Package punkt is already up-to-date!\n",
            "[nltk_data] Downloading package wordnet to /root/nltk_data...\n",
            "[nltk_data]   Package wordnet is already up-to-date!\n",
            "[nltk_data] Downloading package omw-1.4 to /root/nltk_data...\n",
            "[nltk_data]   Package omw-1.4 is already up-to-date!\n"
          ]
        }
      ],
      "source": [
        "#Stop word removal\n",
        "\n",
        "#Download stopwords and wordnet\n",
        "nltk.download('stopwords')\n",
        "nltk.download('punkt')\n",
        "nltk.download('wordnet')\n",
        "nltk.download('omw-1.4')\n",
        "\n",
        "#Remove stop words\n",
        "stop_words = set(stopwords.words('english'))\n",
        "\n",
        "def remove_stop_words(text):\n",
        "    word_tokens = word_tokenize(text)\n",
        "    filtered_text = [word for word in word_tokens if word not in stop_words]\n",
        "    return ' '.join(filtered_text)\n",
        "\n",
        "df['cleaned_review'] = df['cleaned_review'].apply(lambda x: remove_stop_words(x))\n"
      ]
    },
    {
      "cell_type": "code",
      "execution_count": 7,
      "metadata": {
        "id": "rmV6esMZs9Bf"
      },
      "outputs": [],
      "source": [
        "#Lemmatization\n",
        "lemmatizer = WordNetLemmatizer()\n",
        "\n",
        "def lemmatize_text(text):\n",
        "    word_tokens = word_tokenize(text)\n",
        "    lemmatized_text = [lemmatizer.lemmatize(word) for word in word_tokens]\n",
        "    return ' '.join(lemmatized_text)\n",
        "\n",
        "df['cleaned_review'] = df['cleaned_review'].apply(lambda x: lemmatize_text(x))\n"
      ]
    },
    {
      "cell_type": "code",
      "execution_count": null,
      "metadata": {
        "colab": {
          "base_uri": "https://localhost:8080/"
        },
        "id": "Ae8tDJikEcIK",
        "outputId": "651c44fb-5245-4b93-e77c-1896ebb50de7"
      },
      "outputs": [
        {
          "name": "stdout",
          "output_type": "stream",
          "text": [
            "0         oscar year shawshank redemption written direct...\n",
            "1         shawshank redemption without doubt one brillia...\n",
            "2         believe film best story ever told film im tell...\n",
            "3         yes spoiler herethis film emotional impact fin...\n",
            "4         heart extraordinary movie brilliant indelible ...\n",
            "                                ...                        \n",
            "573901    go wise fast pure entertainment assembling exc...\n",
            "573902    well shall say one´s fun rate three plotlines ...\n",
            "573903    go best movie ever seen ive seen lot movie rea...\n",
            "573904    call teenage version pulp fiction whatever wan...\n",
            "573905    movie made doubt sucker familyrebelling mtv fa...\n",
            "Name: cleaned_review, Length: 573906, dtype: object\n"
          ]
        }
      ],
      "source": [
        "print(df['cleaned_review'])"
      ]
    },
    {
      "cell_type": "markdown",
      "metadata": {
        "id": "GagohzGAVk6F"
      },
      "source": [
        "Feature Extraction"
      ]
    },
    {
      "cell_type": "markdown",
      "metadata": {
        "id": "1nezyWDZVtQN"
      },
      "source": [
        "Model Creation"
      ]
    },
    {
      "cell_type": "markdown",
      "metadata": {
        "id": "da4oFkD7ToS3"
      },
      "source": [
        "Logistic Regression\n"
      ]
    },
    {
      "cell_type": "code",
      "execution_count": null,
      "metadata": {
        "colab": {
          "base_uri": "https://localhost:8080/"
        },
        "id": "QKI0Cu72eDc6",
        "outputId": "f6bb2d69-226c-4510-a805-52f66112ec2b"
      },
      "outputs": [
        {
          "name": "stdout",
          "output_type": "stream",
          "text": [
            "Cross-validation scores: [0.69164456 0.68642794 0.68961096 0.68907359 0.68969252]\n",
            "Mean cross-validation score: 0.6892899149695353\n",
            "Test Accuracy: 0.7009416143353987\n",
            "Test Classification Report:\n",
            "               precision    recall  f1-score   support\n",
            "\n",
            "       False       0.86      0.71      0.78    105652\n",
            "        True       0.45      0.66      0.54     37825\n",
            "\n",
            "    accuracy                           0.70    143477\n",
            "   macro avg       0.65      0.69      0.66    143477\n",
            "weighted avg       0.75      0.70      0.72    143477\n",
            "\n"
          ]
        }
      ],
      "source": [
        "import pandas as pd\n",
        "from sklearn.feature_extraction.text import TfidfVectorizer\n",
        "from sklearn.model_selection import train_test_split, cross_val_score\n",
        "from sklearn.linear_model import LogisticRegression\n",
        "from sklearn.preprocessing import StandardScaler\n",
        "from sklearn.pipeline import make_pipeline\n",
        "from sklearn.metrics import classification_report, accuracy_score\n",
        "\n",
        "# Split the data into features and target variable\n",
        "X = df['cleaned_review']\n",
        "y = df['is_spoiler']\n",
        "\n",
        "# Split the data into training and testing sets (75% training, 25% testing)\n",
        "X_train, X_test, y_train, y_test = train_test_split(X, y, test_size=0.25, random_state=42)\n",
        "\n",
        "# Initialize the TF-IDF Vectorizer\n",
        "vectorizer = TfidfVectorizer(max_features=5000)\n",
        "\n",
        "# Fit and transform the training data\n",
        "X_train_tfidf = vectorizer.fit_transform(X_train)\n",
        "\n",
        "# Transform the testing data\n",
        "X_test_tfidf = vectorizer.transform(X_test)\n",
        "\n",
        "# Initialize the RandomUnderSampler\n",
        "rus = RandomUnderSampler(random_state=42)\n",
        "\n",
        "# Apply undersampling to the training data\n",
        "X_train_tfidf_resampled, y_train_resampled = rus.fit_resample(X_train_tfidf, y_train)\n",
        "\n",
        "# Initialize the Logistic Regression model\n",
        "model = LogisticRegression(max_iter=2000)\n",
        "\n",
        "# Perform 5-fold cross-validation on the resampled training set\n",
        "cv_scores = cross_val_score(model, X_train_tfidf_resampled, y_train_resampled, cv=5, scoring='accuracy')\n",
        "\n",
        "# Print the cross-validation scores\n",
        "print(\"Cross-validation scores:\", cv_scores)\n",
        "print(\"Mean cross-validation score:\", cv_scores.mean())\n",
        "\n",
        "# Fit the model on the entire resampled training set\n",
        "model.fit(X_train_tfidf_resampled, y_train_resampled)\n",
        "\n",
        "# Make predictions on the test set\n",
        "y_pred = model.predict(X_test_tfidf)\n",
        "\n",
        "# Evaluate the model on the test set\n",
        "print(\"Test Accuracy:\", accuracy_score(y_test, y_pred))\n",
        "print(\"Test Classification Report:\\n\", classification_report(y_test, y_pred))"
      ]
    },
    {
      "cell_type": "markdown",
      "metadata": {
        "id": "QoH3rfPYj4Gx"
      },
      "source": [
        "SVM"
      ]
    },
    {
      "cell_type": "code",
      "execution_count": null,
      "metadata": {
        "colab": {
          "background_save": true,
          "base_uri": "https://localhost:8080/"
        },
        "id": "1tlJ_Mbmfm10",
        "outputId": "da48992b-71dc-4cee-8c5d-9afa286d2cf3"
      },
      "outputs": [
        {
          "name": "stderr",
          "output_type": "stream",
          "text": [
            "/usr/local/lib/python3.10/dist-packages/sklearn/svm/_base.py:299: ConvergenceWarning: Solver terminated early (max_iter=1000).  Consider pre-processing your data with StandardScaler or MinMaxScaler.\n",
            "  warnings.warn(\n",
            "/usr/local/lib/python3.10/dist-packages/sklearn/svm/_base.py:299: ConvergenceWarning: Solver terminated early (max_iter=1000).  Consider pre-processing your data with StandardScaler or MinMaxScaler.\n",
            "  warnings.warn(\n"
          ]
        },
        {
          "name": "stdout",
          "output_type": "stream",
          "text": [
            "Cross-validation scores: [0.54214449 0.53926206]\n",
            "Mean cross-validation score: 0.5407032776593957\n"
          ]
        },
        {
          "name": "stderr",
          "output_type": "stream",
          "text": [
            "/usr/local/lib/python3.10/dist-packages/sklearn/svm/_base.py:299: ConvergenceWarning: Solver terminated early (max_iter=1000).  Consider pre-processing your data with StandardScaler or MinMaxScaler.\n",
            "  warnings.warn(\n"
          ]
        },
        {
          "name": "stdout",
          "output_type": "stream",
          "text": [
            "Test Accuracy: 0.5267394774075287\n",
            "Test Classification Report:\n",
            "               precision    recall  f1-score   support\n",
            "\n",
            "       False       0.77      0.51      0.61    105652\n",
            "        True       0.30      0.58      0.39     37825\n",
            "\n",
            "    accuracy                           0.53    143477\n",
            "   macro avg       0.53      0.54      0.50    143477\n",
            "weighted avg       0.65      0.53      0.55    143477\n",
            "\n"
          ]
        }
      ],
      "source": [
        "import pandas as pd\n",
        "from sklearn.feature_extraction.text import TfidfVectorizer\n",
        "from sklearn.model_selection import train_test_split, cross_val_score\n",
        "from sklearn.svm import SVC\n",
        "from sklearn.pipeline import make_pipeline\n",
        "from sklearn.metrics import classification_report, accuracy_score\n",
        "from imblearn.under_sampling import RandomUnderSampler\n",
        "\n",
        "# Split the data into features and target variable\n",
        "X = df['cleaned_review']\n",
        "y = df['is_spoiler']\n",
        "\n",
        "# Split the data into training and testing sets (75% training, 25% testing)\n",
        "X_train, X_test, y_train, y_test = train_test_split(X, y, test_size=0.25, random_state=42)\n",
        "\n",
        "# Initialize the TF-IDF Vectorizer\n",
        "vectorizer = TfidfVectorizer(max_features=5000)\n",
        "\n",
        "# Fit and transform the training data\n",
        "X_train_tfidf = vectorizer.fit_transform(X_train)\n",
        "\n",
        "# Transform the testing data\n",
        "X_test_tfidf = vectorizer.transform(X_test)\n",
        "\n",
        "# Initialize the RandomUnderSampler\n",
        "rus = RandomUnderSampler(random_state=42)\n",
        "\n",
        "# Apply undersampling to the training data\n",
        "X_train_tfidf_resampled, y_train_resampled = rus.fit_resample(X_train_tfidf, y_train)\n",
        "\n",
        "# Initialize the SVM model\n",
        "svm_model = SVC(kernel='linear', max_iter=1000)\n",
        "\n",
        "# Perform 5-fold cross-validation on the resampled training set\n",
        "cv_scores = cross_val_score(svm_model, X_train_tfidf_resampled, y_train_resampled, cv=2, scoring='accuracy')\n",
        "\n",
        "# Print the cross-validation scores\n",
        "print(\"Cross-validation scores:\", cv_scores)\n",
        "print(\"Mean cross-validation score:\", cv_scores.mean())\n",
        "\n",
        "# Fit the model on the entire resampled training set\n",
        "svm_model.fit(X_train_tfidf_resampled, y_train_resampled)\n",
        "\n",
        "# Make predictions on the test set\n",
        "y_pred = svm_model.predict(X_test_tfidf)\n",
        "\n",
        "# Evaluate the model on the test set\n",
        "print(\"Test Accuracy:\", accuracy_score(y_test, y_pred))\n",
        "print(\"Test Classification Report:\\n\", classification_report(y_test, y_pred))\n"
      ]
    },
    {
      "cell_type": "markdown",
      "metadata": {
        "id": "4d9QlfVYqWES"
      },
      "source": [
        "Naive Bayes"
      ]
    },
    {
      "cell_type": "code",
      "execution_count": null,
      "metadata": {
        "colab": {
          "base_uri": "https://localhost:8080/"
        },
        "id": "6EitUQhXJuY-",
        "outputId": "ec83f2ff-ce74-4e0a-f711-819ab49d5703"
      },
      "outputs": [
        {
          "name": "stdout",
          "output_type": "stream",
          "text": [
            "Cross-validation scores: [0.66553935 0.66584881 0.66419098 0.66681403 0.66480249]\n",
            "Mean cross-validation score: 0.6654391318148788\n",
            "Test Accuracy: 0.6751325996501182\n",
            "Test Classification Report:\n",
            "               precision    recall  f1-score   support\n",
            "\n",
            "       False       0.84      0.69      0.76    105652\n",
            "        True       0.42      0.64      0.51     37825\n",
            "\n",
            "    accuracy                           0.68    143477\n",
            "   macro avg       0.63      0.66      0.63    143477\n",
            "weighted avg       0.73      0.68      0.69    143477\n",
            "\n"
          ]
        }
      ],
      "source": [
        "import pandas as pd\n",
        "from sklearn.feature_extraction.text import TfidfVectorizer\n",
        "from sklearn.model_selection import train_test_split, cross_val_score\n",
        "from sklearn.naive_bayes import MultinomialNB\n",
        "from sklearn.pipeline import make_pipeline\n",
        "from sklearn.metrics import classification_report, accuracy_score\n",
        "from imblearn.under_sampling import RandomUnderSampler\n",
        "\n",
        "# Split the data into features and target variable\n",
        "X = df['cleaned_review']\n",
        "y = df['is_spoiler']\n",
        "\n",
        "# Split the data into training and testing sets (75% training, 25% testing)\n",
        "X_train, X_test, y_train, y_test = train_test_split(X, y, test_size=0.25, random_state=42)\n",
        "\n",
        "# Initialize the TF-IDF Vectorizer\n",
        "vectorizer = TfidfVectorizer(max_features=5000)\n",
        "\n",
        "# Fit and transform the training data\n",
        "X_train_tfidf = vectorizer.fit_transform(X_train)\n",
        "\n",
        "# Transform the testing data\n",
        "X_test_tfidf = vectorizer.transform(X_test)\n",
        "\n",
        "# Initialize the RandomUnderSampler\n",
        "rus = RandomUnderSampler(random_state=42)\n",
        "\n",
        "# Apply undersampling to the training data\n",
        "X_train_tfidf_resampled, y_train_resampled = rus.fit_resample(X_train_tfidf, y_train)\n",
        "\n",
        "# Initialize the Naive Bayes model\n",
        "nb_model = MultinomialNB()\n",
        "\n",
        "# Perform 5-fold cross-validation on the resampled training set\n",
        "cv_scores = cross_val_score(nb_model, X_train_tfidf_resampled, y_train_resampled, cv=5, scoring='accuracy')\n",
        "\n",
        "# Print the cross-validation scores\n",
        "print(\"Cross-validation scores:\", cv_scores)\n",
        "print(\"Mean cross-validation score:\", cv_scores.mean())\n",
        "\n",
        "# Fit the model on the entire resampled training set\n",
        "nb_model.fit(X_train_tfidf_resampled, y_train_resampled)\n",
        "\n",
        "# Make predictions on the test set\n",
        "y_pred = nb_model.predict(X_test_tfidf)\n",
        "\n",
        "# Evaluate the model on the test set\n",
        "print(\"Test Accuracy:\", accuracy_score(y_test, y_pred))\n",
        "print(\"Test Classification Report:\\n\", classification_report(y_test, y_pred))\n"
      ]
    },
    {
      "cell_type": "markdown",
      "source": [
        "Bi-LTSM"
      ],
      "metadata": {
        "id": "zbrEv50b8SNk"
      }
    },
    {
      "cell_type": "code",
      "source": [
        "import pandas as pd\n",
        "import numpy as np\n",
        "from sklearn.feature_extraction.text import CountVectorizer\n",
        "from sklearn.model_selection import train_test_split\n",
        "from sklearn.preprocessing import StandardScaler\n",
        "from imblearn.under_sampling import RandomUnderSampler\n",
        "from tensorflow.keras.preprocessing.sequence import pad_sequences\n",
        "from tensorflow.keras.models import Sequential\n",
        "from tensorflow.keras.layers import Embedding, LSTM, Dense, Bidirectional, Dropout\n",
        "from tensorflow.keras.optimizers import Adam\n",
        "from sklearn.metrics import classification_report, accuracy_score\n",
        "\n",
        "# Split the data into features and target variable\n",
        "X = df['cleaned_review']\n",
        "y = df['is_spoiler']\n",
        "\n",
        "# Split the data into training and testing sets (75% training, 25% testing)\n",
        "X_train, X_test, y_train, y_test = train_test_split(X, y, test_size=0.25, random_state=42)\n",
        "\n",
        "# Initialize the CountVectorizer for Bag of Words\n",
        "vectorizer = CountVectorizer(max_features=5000)\n",
        "\n",
        "# Fit and transform the training data\n",
        "X_train_bow = vectorizer.fit_transform(X_train)\n",
        "\n",
        "# Transform the testing data\n",
        "X_test_bow = vectorizer.transform(X_test)\n",
        "\n",
        "# Convert the sparse matrix to a dense matrix\n",
        "X_train_bow_dense = X_train_bow.toarray()\n",
        "X_test_bow_dense = X_test_bow.toarray()\n",
        "\n",
        "# Initialize the RandomUnderSampler\n",
        "rus = RandomUnderSampler(random_state=42)\n",
        "\n",
        "# Apply undersampling to the training data\n",
        "X_train_resampled, y_train_resampled = rus.fit_resample(X_train_bow_dense, y_train)\n",
        "\n",
        "# Tokenization and Padding\n",
        "tokenizer = Tokenizer(num_words=5000)\n",
        "tokenizer.fit_on_texts(X_train_resampled)\n",
        "\n",
        "X_train_seq = tokenizer.texts_to_sequences(X_train_resampled)\n",
        "X_test_seq = tokenizer.texts_to_sequences(X_test)\n",
        "\n",
        "maxlen = 100  # Maximum length of the sequence\n",
        "X_train_pad = pad_sequences(X_train_seq, padding='post', maxlen=maxlen)\n",
        "X_test_pad = pad_sequences(X_test_seq, padding='post', maxlen=maxlen)\n",
        "\n",
        "# Model configuration\n",
        "embedding_dim = 100\n",
        "num_classes = 2\n",
        "\n",
        "# Build the Bi-LSTM model\n",
        "model = Sequential()\n",
        "model.add(Embedding(input_dim=5000, output_dim=embedding_dim, input_length=maxlen))\n",
        "model.add(Bidirectional(LSTM(64, return_sequences=True)))\n",
        "model.add(Dropout(0.5))\n",
        "model.add(Bidirectional(LSTM(32)))\n",
        "model.add(Dense(num_classes, activation='softmax'))\n",
        "\n",
        "# Compile the model\n",
        "model.compile(loss='sparse_categorical_crossentropy', optimizer=Adam(learning_rate=0.001), metrics=['accuracy'])\n",
        "\n",
        "# Train the model\n",
        "history = model.fit(X_train_pad, y_train_resampled, epochs=5, batch_size=64, validation_split=0.2)\n",
        "\n",
        "# Evaluate the model\n",
        "y_pred = np.argmax(model.predict(X_test_pad), axis=1)\n",
        "\n",
        "# Print results\n",
        "print(\"Bi-LSTM Accuracy:\", accuracy_score(y_test, y_pred))\n",
        "print(\"Bi-LSTM Classification Report:\\n\", classification_report(y_test, y_pred))\n",
        "\n"
      ],
      "metadata": {
        "id": "E-W-JTFH8vgO"
      },
      "execution_count": null,
      "outputs": []
    }
  ],
  "metadata": {
    "colab": {
      "provenance": []
    },
    "kernelspec": {
      "display_name": "Python 3",
      "name": "python3"
    },
    "language_info": {
      "name": "python"
    }
  },
  "nbformat": 4,
  "nbformat_minor": 0
}